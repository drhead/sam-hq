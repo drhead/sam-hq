{
  "cells": [
    {
      "cell_type": "code",
      "execution_count": 1,
      "metadata": {
        "colab": {
          "base_uri": "https://localhost:8080/"
        },
        "id": "jtPyJvVC4usv",
        "outputId": "0146df6a-e103-48f4-d226-12582ba704f6"
      },
      "outputs": [
        {
          "name": "stdout",
          "output_type": "stream",
          "text": [
            "PyTorch version: 2.0.0a0+git9cfa076\n",
            "XLA GPU is available\n"
          ]
        }
      ],
      "source": [
        "import os\n",
        "\n",
        "os.environ['LD_LIBRARY_PATH'] = os.environ.get('LD_LIBRARY_PATH', '') + ':/home/drhead/miniconda3/envs/sam_hq_xla/lib:/usr/local/cuda/targets/x86_64-linux/lib'\n",
        "os.environ['PT_XLA_DEBUG'] = '1' \n",
        "os.environ['PT_XLA_DEBUG_FILE'] = './xla_debug.txt'\n",
        "os.environ['PJRT_DEVICE'] = 'GPU'\n",
        "\n",
        "# Nonzero op lowering is unstable but seems to work for some ops\n",
        "# os.environ['XLA_EXPERIMENTAL'] = 'nonzero'\n",
        "\n",
        "# Will cast ALL FLOATS to BF16\n",
        "# os.environ['XLA_USE_BF16'] = '1'\n",
        "\n",
        "import numpy as np\n",
        "import torch\n",
        "print(\"PyTorch version:\", torch.__version__)\n",
        "import torch_xla.core.xla_model as xm\n",
        "\n",
        "if xm.get_xla_supported_devices(\"GPU\") is not None:\n",
        "    print(\"XLA GPU is available\")\n",
        "elif xm.get_xla_supported_devices(\"TPU\") is not None:\n",
        "    print(\"XLA TPU is available with \", xm.get_xla_supported_devices(\"TPU\").count(), \" cores\")\n",
        "\n",
        "import torch.nn as nn\n",
        "from torch.nn.parallel import DistributedDataParallel as DDP\n",
        "import torch.optim as optim\n",
        "import torch.distributed as dist\n",
        "import torch_xla.distributed.parallel_loader as pl\n",
        "import torch_xla.distributed.xla_backend\n",
        "import torch_xla.distributed.xla_multiprocessing as xmp\n",
        "import torch_xla.experimental.pjrt_backend\n",
        "import torch_xla.experimental.pjrt as pjrt\n",
        "import matplotlib.pyplot as plt\n",
        "import cv2\n",
        "import time\n",
        "\n",
        "import torch_xla.debug.profiler as xp\n",
        "import torch_xla.utils.utils as xu\n",
        "import multiprocessing\n",
        "\n",
        "\n",
        "# !git clone -b xla https://github.com/drhead/sam-hq.git\n",
        "# os.chdir('sam-hq')\n",
        "# !export PYTHONPATH=$(pwd)\n",
        "from segment_anything import sam_model_registry, SamAutomaticMaskGenerator, SamPredictor\n"
      ]
    },
    {
      "cell_type": "code",
      "execution_count": 2,
      "metadata": {
        "colab": {
          "base_uri": "https://localhost:8080/"
        },
        "id": "34r0whHs1L3E",
        "outputId": "fd84f7b1-72ae-4d46-efde-03998c24dadc"
      },
      "outputs": [],
      "source": [
        "# !mkdir pretrained_checkpoint\n",
        "# !wget https://huggingface.co/lkeab/hq-sam/resolve/main/sam_hq_vit_l.pth\n",
        "# !mv sam_hq_vit_l.pth pretrained_checkpoint\n"
      ]
    },
    {
      "cell_type": "code",
      "execution_count": 2,
      "metadata": {
        "id": "1AeuV_I84zmT"
      },
      "outputs": [],
      "source": [
        "def show_anns(anns):\n",
        "    if len(anns) == 0:\n",
        "        return\n",
        "    sorted_anns = sorted(anns, key=(lambda x: x['area']), reverse=True)\n",
        "    ax = plt.gca()\n",
        "    ax.set_autoscale_on(False)\n",
        "\n",
        "    img = np.ones((sorted_anns[0]['segmentation'].shape[0], sorted_anns[0]['segmentation'].shape[1], 4))\n",
        "    img[:,:,3] = 0\n",
        "    for ann in sorted_anns:\n",
        "        m = ann['segmentation'].cpu()\n",
        "        color_mask = np.concatenate([np.random.random(3), [0.35]])\n",
        "        img[m] = color_mask\n",
        "    ax.imshow(img)"
      ]
    },
    {
      "cell_type": "code",
      "execution_count": 1,
      "metadata": {
        "colab": {
          "base_uri": "https://localhost:8080/",
          "height": 867
        },
        "id": "psXudeIzKWad",
        "outputId": "2c8a6678-fe5e-4322-cc42-b953d57eb5a1"
      },
      "outputs": [
        {
          "ename": "NameError",
          "evalue": "name 'cv2' is not defined",
          "output_type": "error",
          "traceback": [
            "\u001b[0;31m---------------------------------------------------------------------------\u001b[0m",
            "\u001b[0;31mNameError\u001b[0m                                 Traceback (most recent call last)",
            "\u001b[1;32m/home/drhead/sam-hq/hqsam_xla_amg_test.ipynb Cell 4\u001b[0m in \u001b[0;36m<cell line: 1>\u001b[0;34m()\u001b[0m\n\u001b[0;32m----> <a href='vscode-notebook-cell://wsl%2Bubuntu/home/drhead/sam-hq/hqsam_xla_amg_test.ipynb#W3sdnNjb2RlLXJlbW90ZQ%3D%3D?line=0'>1</a>\u001b[0m image \u001b[39m=\u001b[39m cv2\u001b[39m.\u001b[39mimread(\u001b[39m'\u001b[39m\u001b[39mdata/zd_testimgs/-663378304158021540.webp\u001b[39m\u001b[39m'\u001b[39m)\n\u001b[1;32m      <a href='vscode-notebook-cell://wsl%2Bubuntu/home/drhead/sam-hq/hqsam_xla_amg_test.ipynb#W3sdnNjb2RlLXJlbW90ZQ%3D%3D?line=1'>2</a>\u001b[0m image \u001b[39m=\u001b[39m cv2\u001b[39m.\u001b[39mcvtColor(image, cv2\u001b[39m.\u001b[39mCOLOR_BGR2RGB)\n\u001b[1;32m      <a href='vscode-notebook-cell://wsl%2Bubuntu/home/drhead/sam-hq/hqsam_xla_amg_test.ipynb#W3sdnNjb2RlLXJlbW90ZQ%3D%3D?line=2'>3</a>\u001b[0m plt\u001b[39m.\u001b[39mfigure(figsize\u001b[39m=\u001b[39m(\u001b[39m20\u001b[39m,\u001b[39m20\u001b[39m))\n",
            "\u001b[0;31mNameError\u001b[0m: name 'cv2' is not defined"
          ]
        }
      ],
      "source": [
        "image = cv2.imread('data/zd_testimgs/-663378304158021540.webp')\n",
        "image = cv2.cvtColor(image, cv2.COLOR_BGR2RGB)\n",
        "plt.figure(figsize=(20,20))\n",
        "plt.imshow(image)\n",
        "plt.axis('off')\n",
        "plt.show()"
      ]
    },
    {
      "cell_type": "code",
      "execution_count": 4,
      "metadata": {
        "colab": {
          "base_uri": "https://localhost:8080/"
        },
        "id": "3InUlsqY40Sm",
        "outputId": "a6b646a5-0f25-4cfa-bc77-d5ce4c63e7a4"
      },
      "outputs": [
        {
          "name": "stdout",
          "output_type": "stream",
          "text": [
            "<All keys matched successfully>\n"
          ]
        }
      ],
      "source": [
        "dist.init_process_group('xla', init_method='pjrt://')\n",
        "\n",
        "sam_checkpoint = \"pretrained_checkpoint/sam_hq_vit_h.pth\"\n",
        "model_type = \"vit_h\"\n",
        "device = xm.xla_device()\n",
        "sam = sam_model_registry[model_type](checkpoint=sam_checkpoint)\n",
        "sam.to(device=device)\n",
        "\n",
        "sam.eval()\n",
        "sam_dynamo = torch.compile(sam, backend='torchxla_trace_once')\n",
        "\n",
        "mask_generator = SamAutomaticMaskGenerator(\n",
        "    model=sam_dynamo,\n",
        "    points_per_side=8,\n",
        "    points_per_batch=64,\n",
        "    min_mask_region_area=0,  # Requires open-cv to run post-processing\n",
        ")"
      ]
    },
    {
      "cell_type": "code",
      "execution_count": 5,
      "metadata": {
        "colab": {
          "base_uri": "https://localhost:8080/"
        },
        "id": "zzfuSf1bNyfv",
        "outputId": "ba5b397b-c9de-45c7-f82c-573a9eae8dd6"
      },
      "outputs": [
        {
          "name": "stderr",
          "output_type": "stream",
          "text": [
            "2023-06-26 19:12:02.834587: W tensorflow/tsl/profiler/lib/profiler_session.cc:110] Profiling is late by 1220700 nanoseconds and will start immediately.\n",
            "2023-06-26 19:12:02.849951: E tensorflow/compiler/xla/backends/profiler/gpu/cupti_error_manager.cc:194] cuptiSubscribe: error 15: CUPTI_ERROR_NOT_INITIALIZED\n",
            "2023-06-26 19:12:02.849999: E tensorflow/compiler/xla/backends/profiler/gpu/cupti_error_manager.cc:459] cuptiGetResultString: ignored due to a previous error.\n",
            "2023-06-26 19:12:02.850007: E tensorflow/compiler/xla/backends/profiler/gpu/cupti_tracer.cc:1731] function cupti_interface_->Subscribe( &subscriber_, (CUpti_CallbackFunc)ApiCallback, this)failed with error \n",
            "2023-06-26 19:12:22.851124: E tensorflow/compiler/xla/backends/profiler/gpu/cupti_error_manager.cc:142] cuptiFinalize: ignored due to a previous error.\n",
            "2023-06-26 19:12:22.851170: E tensorflow/compiler/xla/backends/profiler/gpu/cupti_error_manager.cc:459] cuptiGetResultString: ignored due to a previous error.\n",
            "2023-06-26 19:12:22.851178: E tensorflow/compiler/xla/backends/profiler/gpu/cupti_tracer.cc:1822] function cupti_interface_->Finalize()failed with error \n",
            "2023-06-26 19:12:22.854387: E tensorflow/compiler/xla/backends/profiler/gpu/cupti_error_manager.cc:135] cuptiGetTimestamp: ignored due to a previous error.\n",
            "2023-06-26 19:12:22.854473: E tensorflow/compiler/xla/backends/profiler/gpu/cupti_error_manager.cc:135] cuptiGetTimestamp: ignored due to a previous error.\n"
          ]
        }
      ],
      "source": [
        "def gen_masks():\n",
        "    xp.trace('localhost:6009', logdir='/home/drhead/sam-hq/', num_tracing_attempts=1, timeout_s=15, duration_ms=400000)\n",
        "    print('Done tracing')\n",
        "\n",
        "#p = multiprocessing.Process(target=gen_masks)\n",
        "#p.start()\n",
        "server = xp.start_server(6009)\n",
        "time.sleep(10)\n",
        "with xp.StepTrace('gen_steps',step_num=0):\n",
        "    with xp.Trace('generate'):\n",
        "        masks = mask_generator.generate(image, multimask_output=False)\n",
        "        print(len(masks))\n",
        "with xp.StepTrace('gen_steps',step_num=1):\n",
        "    with xp.Trace('generate'):\n",
        "        masks = mask_generator.generate(image, multimask_output=False)\n",
        "        print(len(masks))\n",
        "with xp.StepTrace('gen_steps',step_num=2):\n",
        "    with xp.Trace('generate'):\n",
        "        masks = mask_generator.generate(image, multimask_output=False)\n",
        "        print(len(masks))\n",
        "with xp.StepTrace('gen_steps',step_num=3):\n",
        "    with xp.Trace('generate'):\n",
        "        masks = mask_generator.generate(image, multimask_output=False)\n",
        "        print(len(masks))\n",
        "\n",
        "#p.join()"
      ]
    },
    {
      "cell_type": "code",
      "execution_count": 7,
      "metadata": {
        "colab": {
          "base_uri": "https://localhost:8080/",
          "height": 908
        },
        "id": "AFGMGz5GN8HZ",
        "outputId": "942734d4-f6b9-430f-ce9f-60b164bd0416"
      },
      "outputs": [
        {
          "ename": "",
          "evalue": "",
          "output_type": "error",
          "traceback": [
            "\u001b[1;31mThe Kernel crashed while executing code in the the current cell or a previous cell. Please review the code in the cell(s) to identify a possible cause of the failure. Click <a href='https://aka.ms/vscodeJupyterKernelCrash'>here</a> for more info. View Jupyter <a href='command:jupyter.viewOutput'>log</a> for further details."
          ]
        }
      ],
      "source": [
        "plt.figure(figsize=(20,20))\n",
        "plt.imshow(image)\n",
        "show_anns(masks)\n",
        "plt.axis('off')\n",
        "plt.show()"
      ]
    },
    {
      "cell_type": "code",
      "execution_count": null,
      "metadata": {},
      "outputs": [
        {
          "name": "stdout",
          "output_type": "stream",
          "text": [
            "Metric: DeviceLockWait\n",
            "  TotalSamples: 118\n",
            "  Accumulator: 380.100us\n",
            "  ValueRate: 029.395us / second\n",
            "  Rate: 9.12538 / second\n",
            "  Percentiles: 1%=000.600us; 5%=000.700us; 10%=000.800us; 20%=001.100us; 50%=002.700us; 80%=005.000us; 90%=005.700us; 95%=006.200us; 99%=008.000us\n",
            "Metric: IrValueTensorToXlaData\n",
            "  TotalSamples: 85\n",
            "  Accumulator: 005ms069.600us\n",
            "  ValueRate: 001ms302.849us / second\n",
            "  Rate: 21.8444 / second\n",
            "  Percentiles: 1%=041.100us; 5%=042.600us; 10%=042.800us; 20%=044.600us; 50%=050.000us; 80%=066.000us; 90%=084.100us; 95%=091.900us; 99%=351.100us\n",
            "Metric: TensorToData\n",
            "  TotalSamples: 85\n",
            "  Accumulator: 005ms676.100us\n",
            "  ValueRate: 001ms201.722us / second\n",
            "  Rate: 21.8444 / second\n",
            "  Percentiles: 1%=037.000us; 5%=038.600us; 10%=038.800us; 20%=040.600us; 50%=045.200us; 80%=062.500us; 90%=076.500us; 95%=081.700us; 99%=348.100us\n",
            "Metric: TensorsGraphSize\n",
            "  TotalSamples: 58\n",
            "  Accumulator: 217154.00\n",
            "  ValueRate: 16793.35 / second\n",
            "  Rate: 4.48536 / second\n",
            "  Percentiles: 1%=3.00; 5%=3.00; 10%=3.00; 20%=3.00; 50%=6956.00; 80%=7266.00; 90%=7266.00; 95%=7314.00; 99%=7365.00\n",
            "Metric: UnwrapXlaData\n",
            "  TotalSamples: 388\n",
            "  Accumulator: 002ms940.100us\n",
            "  ValueRate: 144.886us / second\n",
            "  Rate: 28.9756 / second\n",
            "  Percentiles: 1%=000.100us; 5%=000.100us; 10%=000.100us; 20%=000.100us; 50%=000.200us; 80%=000.600us; 90%=000.900us; 95%=054.500us; 99%=077.700us\n",
            "Metric: WrapXlaData\n",
            "  TotalSamples: 202\n",
            "  Accumulator: 552.700us\n",
            "  ValueRate: 041.281us / second\n",
            "  Rate: 15.0872 / second\n",
            "  Percentiles: 1%=001.200us; 5%=001.400us; 10%=001.400us; 20%=001.500us; 50%=002.000us; 80%=003.500us; 90%=006.000us; 95%=006.400us; 99%=007.200us\n",
            "Counter: CachedCompile\n",
            "  Value: 58\n",
            "Counter: CreateXlaTensor\n",
            "  Value: 4567\n",
            "Counter: DestroyLtcTensor\n",
            "  Value: 4529\n",
            "Counter: DestroyXlaTensor\n",
            "  Value: 4529\n",
            "Counter: xla::_copy_from\n",
            "  Value: 220\n",
            "Counter: xla::_softmax\n",
            "  Value: 39\n",
            "Counter: xla::_to_cpu\n",
            "  Value: 54\n",
            "Counter: xla::_unsafe_view\n",
            "  Value: 242\n",
            "Counter: xla::abs\n",
            "  Value: 6\n",
            "Counter: xla::add\n",
            "  Value: 336\n",
            "Counter: xla::addcmul\n",
            "  Value: 73\n",
            "Counter: xla::addmm\n",
            "  Value: 18\n",
            "Counter: xla::alias\n",
            "  Value: 1\n",
            "Counter: xla::all\n",
            "  Value: 1\n",
            "Counter: xla::any\n",
            "  Value: 1\n",
            "Counter: xla::arange_out\n",
            "  Value: 2\n",
            "Counter: xla::bitwise_and\n",
            "  Value: 2\n",
            "Counter: xla::bitwise_not\n",
            "  Value: 5\n",
            "Counter: xla::bitwise_or\n",
            "  Value: 3\n",
            "Counter: xla::bmm\n",
            "  Value: 80\n",
            "Counter: xla::cat\n",
            "  Value: 8\n",
            "Counter: xla::clone\n",
            "  Value: 56\n",
            "Counter: xla::constant_pad_nd\n",
            "  Value: 29\n",
            "Counter: xla::convolution_overrideable\n",
            "  Value: 11\n",
            "Counter: xla::cos\n",
            "  Value: 2\n",
            "Counter: xla::cumsum\n",
            "  Value: 2\n",
            "Counter: xla::div\n",
            "  Value: 19\n",
            "Counter: xla::einsum\n",
            "  Value: 64\n",
            "Counter: xla::empty_symint\n",
            "  Value: 56\n",
            "Counter: xla::eq\n",
            "  Value: 8\n",
            "Counter: xla::expand_symint\n",
            "  Value: 164\n",
            "Counter: xla::fill_\n",
            "  Value: 6\n",
            "Counter: xla::ge\n",
            "  Value: 1\n",
            "Counter: xla::gelu\n",
            "  Value: 37\n",
            "Counter: xla::gt\n",
            "  Value: 4\n",
            "Counter: xla::index\n",
            "  Value: 75\n",
            "Counter: xla::index_put_\n",
            "  Value: 4\n",
            "Counter: xla::index_select\n",
            "  Value: 2\n",
            "Counter: xla::le\n",
            "  Value: 2\n",
            "Counter: xla::logical_and\n",
            "  Value: 1\n",
            "Counter: xla::lt\n",
            "  Value: 2\n",
            "Counter: xla::max\n",
            "  Value: 5\n",
            "Counter: xla::mean\n",
            "  Value: 12\n",
            "Counter: xla::min\n",
            "  Value: 2\n",
            "Counter: xla::mm\n",
            "  Value: 162\n",
            "Counter: xla::mul\n",
            "  Value: 52\n",
            "Counter: xla::native_batch_norm\n",
            "  Value: 73\n",
            "Counter: xla::ne\n",
            "  Value: 2\n",
            "Counter: xla::neg\n",
            "  Value: 1\n",
            "Counter: xla::nonzero\n",
            "  Value: 12\n",
            "Counter: xla::permute\n",
            "  Value: 134\n",
            "Counter: xla::pow\n",
            "  Value: 6\n",
            "Counter: xla::relu\n",
            "  Value: 14\n",
            "Counter: xla::repeat\n",
            "  Value: 1\n",
            "Counter: xla::select\n",
            "  Value: 30\n",
            "Counter: xla::sin\n",
            "  Value: 2\n",
            "Counter: xla::slice\n",
            "  Value: 425\n",
            "Counter: xla::split\n",
            "  Value: 1\n",
            "Counter: xla::sqrt\n",
            "  Value: 6\n",
            "Counter: xla::squeeze\n",
            "  Value: 30\n",
            "Counter: xla::stack\n",
            "  Value: 3\n",
            "Counter: xla::sub\n",
            "  Value: 19\n",
            "Counter: xla::sum\n",
            "  Value: 4\n",
            "Counter: xla::t\n",
            "  Value: 178\n",
            "Counter: xla::transpose\n",
            "  Value: 61\n",
            "Counter: xla::unbind\n",
            "  Value: 33\n",
            "Counter: xla::unsqueeze\n",
            "  Value: 99\n",
            "Counter: xla::upsample_bilinear2d\n",
            "  Value: 2\n",
            "Counter: xla::view_symint\n",
            "  Value: 1233\n",
            "Counter: xla::zero_\n",
            "  Value: 2\n",
            "Metric: ExecuteTime\n",
            "  TotalSamples: 58\n",
            "  Accumulator: 13s962ms822.918us\n",
            "  ValueRate: 972ms762.157us / second\n",
            "  Rate: 4.34832 / second\n",
            "  Percentiles: 1%=236.000us; 5%=269.800us; 10%=387.400us; 20%=429.600us; 50%=378ms075.598us; 80%=434ms974.497us; 90%=437ms896.797us; 95%=438ms135.997us; 99%=707ms389.396us\n",
            "Metric: InboundData\n",
            "  TotalSamples: 60\n",
            "  Accumulator: 4.75MB\n",
            "  ValueRate: 364.85KB / second\n",
            "  Rate: 4.49792 / second\n",
            "  Percentiles: 1%=1.00B; 5%=8.00B; 10%=8.00B; 20%=8.00B; 50%=76.00B; 80%=256.00KB; 90%=256.00KB; 95%=256.00KB; 99%=256.00KB\n",
            "Metric: OutboundData\n",
            "  TotalSamples: 85\n",
            "  Accumulator: 3.34MB\n",
            "  ValueRate: 879.52KB / second\n",
            "  Rate: 21.8443 / second\n",
            "  Percentiles: 1%=0.00B; 5%=32.00B; 10%=240.00B; 20%=1.00KB; 50%=1.53KB; 80%=1.53KB; 90%=32.00KB; 95%=32.00KB; 99%=3.00MB\n",
            "Metric: TransferFromServerTime\n",
            "  TotalSamples: 60\n",
            "  Accumulator: 038ms430.900us\n",
            "  ValueRate: 003ms880.988us / second\n",
            "  Rate: 4.49792 / second\n",
            "  Percentiles: 1%=171.100us; 5%=183.700us; 10%=189.600us; 20%=200.500us; 50%=284.200us; 80%=001ms337.700us; 90%=001ms395.300us; 95%=001ms475.600us; 99%=002ms726.500us\n",
            "Metric: TransferToServerTime\n",
            "  TotalSamples: 85\n",
            "  Accumulator: 004ms036.300us\n",
            "  ValueRate: 001ms037.297us / second\n",
            "  Rate: 21.8443 / second\n",
            "  Percentiles: 1%=031.400us; 5%=032.600us; 10%=033.200us; 20%=034.600us; 50%=038.600us; 80%=053.400us; 90%=066.500us; 95%=072.400us; 99%=327.200us\n",
            "Counter: CreateDataHandles\n",
            "  Value: 144\n",
            "Counter: aten::_local_scalar_dense\n",
            "  Value: 20\n",
            "Counter: aten::count_nonzero.dim_IntList\n",
            "  Value: 19\n",
            "Counter: aten::nonzero\n",
            "  Value: 12\n",
            "Counter: aten::repeat_interleave.Tensor\n",
            "  Value: 2\n",
            "Counter: torchvision::nms\n",
            "  Value: 1\n",
            "\n"
          ]
        }
      ],
      "source": [
        "import torch_xla.debug.metrics as met\n",
        "print(met.metrics_report())\n",
        "met.clear_all()"
      ]
    }
  ],
  "metadata": {
    "accelerator": "GPU",
    "colab": {
      "machine_shape": "hm",
      "provenance": []
    },
    "kernelspec": {
      "display_name": "Python 3",
      "name": "python3"
    },
    "language_info": {
      "codemirror_mode": {
        "name": "ipython",
        "version": 3
      },
      "file_extension": ".py",
      "mimetype": "text/x-python",
      "name": "python",
      "nbconvert_exporter": "python",
      "pygments_lexer": "ipython3",
      "version": "3.8.17"
    }
  },
  "nbformat": 4,
  "nbformat_minor": 0
}
